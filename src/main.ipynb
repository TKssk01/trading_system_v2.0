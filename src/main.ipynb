{
 "cells": [
  {
   "cell_type": "code",
   "execution_count": null,
   "metadata": {},
   "outputs": [],
   "source": [
    "import asyncio\n",
    "from config import config\n",
    "from api_client import APIClient\n",
    "\n",
    "async def get_token(password: str) -> Optional[str]:\n",
    "    \"\"\"APIトークンを取得\"\"\"\n",
    "    url = f\"{config.API_BASE_URL}/token\"\n",
    "    headers = {\"Content-Type\": \"application/json\"}\n",
    "    data = {\"APIPassword\": password}\n",
    "    \n",
    "    try:\n",
    "        response = requests.post(url, headers=headers, json=data)\n",
    "        if response.status_code == 200:\n",
    "            return response.json().get(\"Token\")\n",
    "        return None\n",
    "    except Exception:\n",
    "        return None\n",
    "\n",
    "async def main():\n",
    "    # 初期化\n",
    "    config.token = await get_token(config.API_PASSWORD)\n",
    "    api_client = APIClient()\n",
    "    \n",
    "    try:\n",
    "        while True:\n",
    "            current_price = await api_client.fetch_price()\n",
    "            if current_price is not None:\n",
    "                await process_trading_cycle(current_price)\n",
    "            await asyncio.sleep(config.SLEEP_INTERVAL)\n",
    "    except KeyboardInterrupt:\n",
    "        print(\"プログラムを終了します...\")\n",
    "\n",
    "if __name__ == \"__main__\":\n",
    "    asyncio.run(main())"
   ]
  }
 ],
 "metadata": {
  "language_info": {
   "name": "python"
  }
 },
 "nbformat": 4,
 "nbformat_minor": 2
}
